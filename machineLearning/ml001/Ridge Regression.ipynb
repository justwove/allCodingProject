{
 "cells": [
  {
   "cell_type": "markdown",
   "metadata": {},
   "source": [
    "## Polynomial Regression"
   ]
  },
  {
   "attachments": {
    "let.png": {
     "image/png": "[encoded data removed]"
    }
   },
   "cell_type": "markdown",
   "metadata": {},
   "source": [
    "It may happen that your data is too complex that you can't fit a straight line or use a linear regression for doing that, but Surprisingly,you can actually use a linear model to fit nonlinear data. \n",
    "![let.png](attachment:let.png)\n",
    "- A simple way to do this is toadd powers of each feature as new features, then train a linear model on this extended set of features. \n",
    "- This technique is called **Polynomial Regression**."
   ]
  },
  {
   "cell_type": "markdown",
   "metadata": {},
   "source": [
    "Let's take an example, \n",
    "\n",
    "- firstly we will generate the linear cooking data which will be quadratic equation. \n",
    "y = a$x^{2}$ + bx + c"
   ]
  },
  {
   "cell_type": "code",
   "execution_count": 1,
   "metadata": {},
   "outputs": [],
   "source": [
    "### First we will generate the non - linear cooking data \n",
    "import numpy as np \n",
    "import matplotlib.pyplot as plt \n",
    "m = 100 \n",
    "X = 6 * np.random.rand(m,1) - 3 \n",
    "y = 0.5 * X**2 + X + 2 + np.random.randn(m, 1) "
   ]
  },
  {
   "cell_type": "code",
   "execution_count": 2,
   "metadata": {},
   "outputs": [],
   "source": [
    "from sklearn.preprocessing import PolynomialFeatures \n",
    "polynomial_regression = PolynomialFeatures(degree=2, include_bias=False) \n",
    "X_poly = polynomial_regression.fit_transform(X) "
   ]
  },
  {
   "cell_type": "code",
   "execution_count": 3,
   "metadata": {},
   "outputs": [
    {
     "data": {
      "text/plain": [
       "LinearRegression()"
      ]
     },
     "execution_count": 3,
     "metadata": {},
     "output_type": "execute_result"
    }
   ],
   "source": [
    "from sklearn.linear_model import LinearRegression \n",
    "lr = LinearRegression() \n",
    "lr.fit(X_poly, y) "
   ]
  },
  {
   "cell_type": "markdown",
   "metadata": {},
   "source": [
    "## Regularized Linear Models"
   ]
  },
  {
   "cell_type": "markdown",
   "metadata": {},
   "source": [
    "Let's recall the two famous known error, **Overfitting**, **Underfitting**. \n",
    "**Overfitting** Occurs when our model generalized well on our training data but fails to generalize well on new examples or testing data. "
   ]
  },
  {
   "cell_type": "markdown",
   "metadata": {},
   "source": [
    "**Underfitting** Occurs when our model neither performs well on training data not on testing data."
   ]
  },
  {
   "cell_type": "markdown",
   "metadata": {},
   "source": [
    "The Best Solution of this problem is **Regularization**, we will now study **regularization** in detail. "
   ]
  },
  {
   "cell_type": "markdown",
   "metadata": {},
   "source": [
    "### Ridge Regression "
   ]
  },
  {
   "cell_type": "markdown",
   "metadata": {},
   "source": [
    "Ridge Regression is a Regularization Technique that will regularize our parameters bu just adding regularization parameter which is:- $\\alpha\\frac{1}{2}\\sum \\limits _{i = 1} ^{n} \\Theta_{i}^2 $"
   ]
  },
  {
   "cell_type": "markdown",
   "metadata": {},
   "source": [
    "So, Now Our Cost function becomes which is often called **Ridge Regression Cost Function**:-  \n",
    "J($\\Theta$) = $\\frac{1}{m} +\\sum \\limits _{i = 1} ^{m} (\\Theta^{T}x^{i} - y^{i})^{2} + \\alpha\\frac{1}{2}\\sum \\limits _{i = 1} ^{n} \\Theta_{i}^2 $"
   ]
  },
  {
   "cell_type": "markdown",
   "metadata": {},
   "source": [
    "Something to Note:- \n",
    "\n",
    "- We will not regularize our bias term $\\Theta_{0}$, we will start regularizing our cost function from i = 1 to n leaving 0"
   ]
  },
  {
   "cell_type": "markdown",
   "metadata": {},
   "source": [
    "So, What we will do?  \n",
    "\n",
    "J($\\Theta$) = $\\frac{1}{m} +\\sum \\limits _{i = 0} ^{m} (\\Theta^{T}x^{i} - y^{i})^{2}$\n",
    "\n",
    "J($\\Theta$) = $\\frac{1}{m} +\\sum \\limits _{i = 1} ^{m} (\\Theta^{T}x^{i} - y^{i})^{2} + \\alpha\\frac{1}{2}\\sum \\limits _{i = 1} ^{n} \\Theta_{i}^2 $ \n",
    "\n",
    "If we put all the feature weights in 'w' vector, then the regularization term is simply a:- \n",
    "\n",
    "J($\\Theta$) = $\\frac{1}{m} +\\sum \\limits _{i = 1} ^{m} (\\Theta^{T}x^{i} - y^{i})^{2} + \\alpha\\frac{1}{2}(|| w ||_{2})^{2}$ "
   ]
  },
  {
   "cell_type": "markdown",
   "metadata": {},
   "source": [
    "### Ridge Regression Gradient Descent "
   ]
  },
  {
   "cell_type": "markdown",
   "metadata": {},
   "source": [
    "$\\frac{\\partial}{\\partial \\Theta_{0} }{J}(\\Theta) = \\frac{2}{m} +  \\sum  \\limits _{i = 0} ^{m} (\\Theta^{T}x^{i} - y^{i})^{2} $ for $\\Theta_{j} = 0$\n",
    "\n",
    "$\\bigtriangledown {J}(\\Theta) = \\frac{2}{m} +  \\sum  \\limits _{i = 1} ^{m} (\\Theta^{T}x^{i} - y^{i})^{2} $ for $\\Theta_{j} = 1 ... n$"
   ]
  },
  {
   "cell_type": "markdown",
   "metadata": {},
   "source": [
    "**Updating our theta**:-\n",
    "\n",
    "$\\Theta_{0} := \\Theta_{0} - \\alpha J(\\Theta)$  \n",
    "$\\Theta_{j} := \\Theta_{j} - \\alpha \\bigtriangledown{J}(\\Theta)$"
   ]
  },
  {
   "cell_type": "markdown",
   "metadata": {},
   "source": [
    "Now, we have developed our own Ridge Regression Model."
   ]
  },
  {
   "cell_type": "code",
   "execution_count": 5,
   "metadata": {},
   "outputs": [],
   "source": [
    "class Ridge(): \n",
    "    \n",
    "    def __init__(self, alpha, iterations, l2_penalty): \n",
    "        self.alpha = alpha \n",
    "        self.iterations = iterations \n",
    "        self.l2_penalty = l2_penalty \n",
    "    \n",
    "    def fit(self, X,y): \n",
    "        \n",
    "        self.m, self.n = X.shape \n",
    "        \n",
    "        self.feature_weights = np.zeros(self.n)  \n",
    "        self.bias  = 0 \n",
    "        \n",
    "        self.X = X \n",
    "        self.y = y \n",
    "        \n",
    "        for i in range(iterations): \n",
    "            self.update_params \n",
    "        return self\n",
    "    def update_params(self): \n",
    "        \n",
    "        y_pred = self.predict(X) \n",
    "        dW = ( - ( 2 * ( self.X.T ).dot( self.Y - Y_pred ) ) +               \n",
    "               ( 2 * self.l2_penality * self.W ) ) / self.m     \n",
    "        db = - 2 * np.sum( self.Y - Y_pred ) / self.m \n",
    "        \n",
    "        self.W = self.W - self.learning_rate * dW    \n",
    "        self.b = self.b - self.learning_rate * db        \n",
    "        return self\n",
    "    \n",
    "    def predict(self, X): \n",
    "        return  X.dot(self.feature_weights) + self.bias "
   ]
  },
  {
   "cell_type": "code",
   "execution_count": 6,
   "metadata": {},
   "outputs": [
    {
     "name": "stderr",
     "output_type": "stream",
     "text": [
      "C:\\Users\\welcome\\anaconda3\\lib\\site-packages\\sklearn\\utils\\validation.py:73: DataConversionWarning: A column-vector y was passed when a 1d array was expected. Please change the shape of y to (n_samples, ), for example using ravel().\n",
      "  return f(**kwargs)\n"
     ]
    },
    {
     "data": {
      "text/plain": [
       "SGDRegressor()"
      ]
     },
     "execution_count": 6,
     "metadata": {},
     "output_type": "execute_result"
    }
   ],
   "source": [
    "from sklearn.linear_model import SGDRegressor \n",
    "reg = SGDRegressor(penalty=\"l2\") \n",
    "reg.fit(X,y)"
   ]
  },
  {
   "cell_type": "markdown",
   "metadata": {},
   "source": [
    "### Technical Note On Using Ridge Regression \n",
    "\n",
    "- Before Using Any Regularized Models be sure to, Scale the data using scikit learn library \"Standard Scaler\".   "
   ]
  },
  {
   "cell_type": "markdown",
   "metadata": {},
   "source": [
    "(C) Copyright Newera || All Rights Reserved "
   ]
  },
  {
   "cell_type": "code",
   "execution_count": null,
   "metadata": {},
   "outputs": [],
   "source": []
  },
  {
   "cell_type": "code",
   "execution_count": null,
   "metadata": {},
   "outputs": [],
   "source": []
  },
  {
   "cell_type": "code",
   "execution_count": null,
   "metadata": {},
   "outputs": [],
   "source": []
  },
  {
   "cell_type": "code",
   "execution_count": null,
   "metadata": {},
   "outputs": [],
   "source": []
  },
  {
   "cell_type": "code",
   "execution_count": null,
   "metadata": {},
   "outputs": [],
   "source": []
  },
  {
   "cell_type": "code",
   "execution_count": null,
   "metadata": {},
   "outputs": [],
   "source": []
  },
  {
   "cell_type": "code",
   "execution_count": null,
   "metadata": {},
   "outputs": [],
   "source": []
  },
  {
   "cell_type": "code",
   "execution_count": null,
   "metadata": {},
   "outputs": [],
   "source": []
  },
  {
   "cell_type": "code",
   "execution_count": null,
   "metadata": {},
   "outputs": [],
   "source": []
  },
  {
   "cell_type": "code",
   "execution_count": null,
   "metadata": {},
   "outputs": [],
   "source": []
  },
  {
   "cell_type": "code",
   "execution_count": null,
   "metadata": {},
   "outputs": [],
   "source": []
  },
  {
   "cell_type": "code",
   "execution_count": null,
   "metadata": {},
   "outputs": [],
   "source": []
  },
  {
   "cell_type": "code",
   "execution_count": null,
   "metadata": {},
   "outputs": [],
   "source": []
  },
  {
   "cell_type": "code",
   "execution_count": null,
   "metadata": {},
   "outputs": [],
   "source": []
  }
 ],
 "metadata": {
  "kernelspec": {
   "display_name": "Python 3",
   "language": "python",
   "name": "python3"
  },
  "language_info": {
   "codemirror_mode": {
    "name": "ipython",
    "version": 3
   },
   "file_extension": ".py",
   "mimetype": "text/x-python",
   "name": "python",
   "nbconvert_exporter": "python",
   "pygments_lexer": "ipython3",
   "version": "3.8.3"
  }
 },
 "nbformat": 4,
 "nbformat_minor": 4
}
