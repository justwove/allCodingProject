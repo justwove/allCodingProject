{
  "cells": [
    {
      "cell_type": "markdown",
      "metadata": {
        "colab_type": "text",
        "id": "view-in-github"
      },
      "source": [
        "<a href=\"https://colab.research.google.com/github/MachineLearnia/Python-Machine-Learning/blob/master/20%20-%20Sklearn%20(les%20Bases).ipynb\" target=\"_parent\"><img src=\"https://colab.research.google.com/assets/colab-badge.svg\" alt=\"Open In Colab\"/></a>"
      ]
    },
    {
      "cell_type": "markdown",
      "metadata": {
        "colab_type": "text",
        "id": "yFK37edpc2z0"
      },
      "source": [
        "# 20/30 Apprentissage Supervisé avec Sklearn"
      ]
    },
    {
      "cell_type": "code",
      "execution_count": 10,
      "metadata": {
        "colab": {
          "base_uri": "https://localhost:8080/",
          "height": 71
        },
        "colab_type": "code",
        "id": "DCAljzPhcdpO",
        "outputId": "5edfade1-9342-4ba5-8975-f4ddc92d75a1"
      },
      "outputs": [],
      "source": [
        "import numpy as np\n",
        "import matplotlib.pyplot as plt\n",
        "import seaborn as sns"
      ]
    },
    {
      "cell_type": "markdown",
      "metadata": {
        "colab_type": "text",
        "id": "UbURdA5ZdZd5"
      },
      "source": [
        "##1. Régression"
      ]
    },
    {
      "cell_type": "code",
      "execution_count": 11,
      "metadata": {
        "colab": {
          "base_uri": "https://localhost:8080/",
          "height": 283
        },
        "colab_type": "code",
        "id": "6ShWbEJqdYKU",
        "outputId": "13ccaae7-16c7-4bf8-ac4c-def9e08a9bee"
      },
      "outputs": [
        {
          "data": {
            "text/plain": [
              "<matplotlib.collections.PathCollection at 0x7fd0337f85b0>"
            ]
          },
          "execution_count": 11,
          "metadata": {},
          "output_type": "execute_result"
        },
        {
          "data": {
            "image/png": "[encoded data removed]",
            "text/plain": [
              "<Figure size 432x288 with 1 Axes>"
            ]
          },
          "metadata": {
            "needs_background": "light"
          },
          "output_type": "display_data"
        }
      ],
      "source": [
        "np.random.seed(0)\n",
        "m = 100 # creation de 100 échantillons\n",
        "X = np.linspace(0, 10, m).reshape(m,1)\n",
        "y = X + np.random.randn(m, 1)\n",
        "\n",
        "plt.scatter(X, y)"
      ]
    },
    {
      "cell_type": "code",
      "execution_count": 12,
      "metadata": {
        "colab": {},
        "colab_type": "code",
        "id": "WFkeFbj-doir"
      },
      "outputs": [],
      "source": [
        "from sklearn.linear_model import LinearRegression"
      ]
    },
    {
      "cell_type": "code",
      "execution_count": 13,
      "metadata": {
        "colab": {
          "base_uri": "https://localhost:8080/",
          "height": 34
        },
        "colab_type": "code",
        "id": "c4yCQzEqdudw",
        "outputId": "4dddea23-4be0-47cc-d9f2-d630a8d357a7"
      },
      "outputs": [
        {
          "data": {
            "text/plain": [
              "0.8881140743377214"
            ]
          },
          "execution_count": 13,
          "metadata": {},
          "output_type": "execute_result"
        }
      ],
      "source": [
        "model = LinearRegression()\n",
        "model.fit(X, y) # entrainement du modele\n",
        "model.score(X, y) # évaluation avec le coefficient de corrélation"
      ]
    },
    {
      "cell_type": "code",
      "execution_count": 14,
      "metadata": {
        "colab": {
          "base_uri": "https://localhost:8080/",
          "height": 283
        },
        "colab_type": "code",
        "id": "d8J9kM8vd5X_",
        "outputId": "1a1590f3-e520-4f7a-d6e7-c28d9e64b99e"
      },
      "outputs": [
        {
          "data": {
            "text/plain": [
              "[<matplotlib.lines.Line2D at 0x7fd033796190>]"
            ]
          },
          "execution_count": 14,
          "metadata": {},
          "output_type": "execute_result"
        },
        {
          "data": {
            "image/png": "[encoded data removed]",
            "text/plain": [
              "<Figure size 432x288 with 1 Axes>"
            ]
          },
          "metadata": {
            "needs_background": "light"
          },
          "output_type": "display_data"
        }
      ],
      "source": [
        "plt.scatter(X, y)\n",
        "plt.plot(X, model.predict(X), c='red')"
      ]
    },
    {
      "cell_type": "markdown",
      "metadata": {
        "colab_type": "text",
        "id": "TiLDacOweJGj"
      },
      "source": [
        "##2. Classification"
      ]
    },
    {
      "cell_type": "code",
      "execution_count": 15,
      "metadata": {
        "colab": {
          "base_uri": "https://localhost:8080/",
          "height": 204
        },
        "colab_type": "code",
        "id": "SO3lTzLNeFjx",
        "outputId": "d544b300-0bdb-49a8-e9d4-149bc2d31cbf"
      },
      "outputs": [
        {
          "data": {
            "text/html": [
              "<div>\n",
              "<style scoped>\n",
              "    .dataframe tbody tr th:only-of-type {\n",
              "        vertical-align: middle;\n",
              "    }\n",
              "\n",
              "    .dataframe tbody tr th {\n",
              "        vertical-align: top;\n",
              "    }\n",
              "\n",
              "    .dataframe thead th {\n",
              "        text-align: right;\n",
              "    }\n",
              "</style>\n",
              "<table border=\"1\" class=\"dataframe\">\n",
              "  <thead>\n",
              "    <tr style=\"text-align: right;\">\n",
              "      <th></th>\n",
              "      <th>survived</th>\n",
              "      <th>pclass</th>\n",
              "      <th>sex</th>\n",
              "      <th>age</th>\n",
              "    </tr>\n",
              "  </thead>\n",
              "  <tbody>\n",
              "    <tr>\n",
              "      <th>0</th>\n",
              "      <td>0</td>\n",
              "      <td>3</td>\n",
              "      <td>0</td>\n",
              "      <td>22.0</td>\n",
              "    </tr>\n",
              "    <tr>\n",
              "      <th>1</th>\n",
              "      <td>1</td>\n",
              "      <td>1</td>\n",
              "      <td>1</td>\n",
              "      <td>38.0</td>\n",
              "    </tr>\n",
              "    <tr>\n",
              "      <th>2</th>\n",
              "      <td>1</td>\n",
              "      <td>3</td>\n",
              "      <td>1</td>\n",
              "      <td>26.0</td>\n",
              "    </tr>\n",
              "    <tr>\n",
              "      <th>3</th>\n",
              "      <td>1</td>\n",
              "      <td>1</td>\n",
              "      <td>1</td>\n",
              "      <td>35.0</td>\n",
              "    </tr>\n",
              "    <tr>\n",
              "      <th>4</th>\n",
              "      <td>0</td>\n",
              "      <td>3</td>\n",
              "      <td>0</td>\n",
              "      <td>35.0</td>\n",
              "    </tr>\n",
              "  </tbody>\n",
              "</table>\n",
              "</div>"
            ],
            "text/plain": [
              "   survived  pclass  sex   age\n",
              "0         0       3    0  22.0\n",
              "1         1       1    1  38.0\n",
              "2         1       3    1  26.0\n",
              "3         1       1    1  35.0\n",
              "4         0       3    0  35.0"
            ]
          },
          "execution_count": 15,
          "metadata": {},
          "output_type": "execute_result"
        }
      ],
      "source": [
        "titanic = sns.load_dataset('titanic')\n",
        "titanic = titanic[['survived', 'pclass', 'sex', 'age']]\n",
        "titanic.dropna(axis=0, inplace=True)\n",
        "titanic['sex'].replace(['male', 'female'], [0, 1], inplace=True)\n",
        "titanic.head()"
      ]
    },
    {
      "cell_type": "code",
      "execution_count": 16,
      "metadata": {
        "colab": {},
        "colab_type": "code",
        "id": "cqHeWY4KeA2W"
      },
      "outputs": [],
      "source": [
        "from sklearn.neighbors import KNeighborsClassifier"
      ]
    },
    {
      "cell_type": "code",
      "execution_count": 17,
      "metadata": {
        "colab": {},
        "colab_type": "code",
        "id": "PWsleD6DegS7"
      },
      "outputs": [],
      "source": [
        "model = KNeighborsClassifier(n_neighbors=4)"
      ]
    },
    {
      "cell_type": "code",
      "execution_count": 18,
      "metadata": {
        "colab": {},
        "colab_type": "code",
        "id": "52gq2y2AekXO"
      },
      "outputs": [],
      "source": [
        "y = titanic['survived']\n",
        "X = titanic.drop('survived', axis=1)"
      ]
    },
    {
      "cell_type": "code",
      "execution_count": 19,
      "metadata": {
        "colab": {
          "base_uri": "https://localhost:8080/",
          "height": 34
        },
        "colab_type": "code",
        "id": "k-pyGxmles41",
        "outputId": "5818300f-596a-410a-cb8f-eada9abec898"
      },
      "outputs": [
        {
          "data": {
            "text/plain": [
              "0.834733893557423"
            ]
          },
          "execution_count": 19,
          "metadata": {},
          "output_type": "execute_result"
        }
      ],
      "source": [
        "model.fit(X, y) # entrainement du modele\n",
        "model.score(X, y) # évaluation"
      ]
    },
    {
      "cell_type": "code",
      "execution_count": 20,
      "metadata": {},
      "outputs": [
        {
          "name": "stdout",
          "output_type": "stream",
          "text": [
            "{0.8235294117647058: 1, 0.8221288515406162: 2, 0.8291316526610645: 3, 0.834733893557423: 4, 0.8305322128851541: 5, 0.8165266106442577: 7, 0.8081232492997199: 10, 0.8179271708683473: 9, 0.8067226890756303: 11, 0.7871148459383753: 21, 0.7997198879551821: 13, 0.7941176470588235: 14, 0.7955182072829131: 15, 0.7857142857142857: 18, 0.7913165266106442: 17, 0.788515406162465: 19, 0.7829131652661064: 20, 0.7647058823529411: 22, 0.7661064425770309: 23, 0.7591036414565826: 29, 0.7605042016806722: 25, 0.7521008403361344: 26, 0.7450980392156863: 30, 0.7549019607843137: 31, 0.742296918767507: 37, 0.7478991596638656: 33, 0.7310924369747899: 34, 0.7254901960784313: 35, 0.7324929971988795: 36, 0.7226890756302521: 41, 0.7282913165266106: 39, 0.7030812324929971: 42, 0.7128851540616247: 43, 0.6778711484593838: 44, 0.6848739495798319: 45, 0.6722689075630253: 46, 0.6680672268907563: 47, 0.6694677871148459: 51, 0.6708683473389355: 49, 0.6666666666666666: 50, 0.6624649859943977: 52, 0.6610644257703081: 55, 0.6498599439775911: 67, 0.6512605042016807: 65, 0.6484593837535014: 60, 0.6582633053221288: 61, 0.6428571428571429: 69, 0.65406162464986: 63, 0.6386554621848739: 66, 0.6288515406162465: 68, 0.6316526610644257: 70, 0.6442577030812325: 71, 0.6204481792717087: 97, 0.6260504201680672: 81, 0.6176470588235294: 96, 0.6190476190476191: 77, 0.6218487394957983: 80, 0.6274509803921569: 85, 0.623249299719888: 98, 0.6148459383753502: 91, 0.6162464985994398: 93, 0.6246498599439776: 99}\n",
            "0.834733893557423\n"
          ]
        }
      ],
      "source": [
        "result = {}\n",
        "for i in range(1, 100):\n",
        "    model = KNeighborsClassifier(n_neighbors=i)\n",
        "\n",
        "    y = titanic['survived']\n",
        "    X = titanic.drop('survived', axis=1)\n",
        "\n",
        "    model.fit(X, y) # entrainement du modele\n",
        "    result[model.score(X, y)] = i\n",
        "\n",
        "print(result)\n",
        "\n",
        "tmp = 0\n",
        "for i in result:\n",
        "    if tmp > float(i):\n",
        "        continue\n",
        "    tmp = i \n",
        "\n",
        "\n",
        "print(tmp)\n"
      ]
    },
    {
      "cell_type": "markdown",
      "metadata": {
        "colab_type": "text",
        "id": "TLeWNuYMfdFG"
      },
      "source": [
        "##3. Prediction de survie"
      ]
    },
    {
      "cell_type": "code",
      "execution_count": 42,
      "metadata": {
        "colab": {},
        "colab_type": "code",
        "id": "PenJkj9Metw9"
      },
      "outputs": [],
      "source": [
        "def survie(model, pclass=1, sex=0, age=21):\n",
        "  x = np.array([pclass, sex, age]).reshape(1, 3)\n",
        "  print(model.predict(x))\n",
        "  print(model.predict_proba(x))"
      ]
    },
    {
      "cell_type": "code",
      "execution_count": 43,
      "metadata": {
        "colab": {
          "base_uri": "https://localhost:8080/",
          "height": 51
        },
        "colab_type": "code",
        "id": "tqLWXmljfY7N",
        "outputId": "3a2ad14b-5418-4a4b-f2dd-8d2169cb3f71"
      },
      "outputs": [
        {
          "name": "stdout",
          "output_type": "stream",
          "text": [
            "[0]\n",
            "[[0.6969697 0.3030303]]\n"
          ]
        },
        {
          "name": "stderr",
          "output_type": "stream",
          "text": [
            "/home/seb/.local/lib/python3.8/site-packages/sklearn/base.py:445: UserWarning: X does not have valid feature names, but KNeighborsClassifier was fitted with feature names\n",
            "  warnings.warn(\n",
            "/home/seb/.local/lib/python3.8/site-packages/sklearn/base.py:445: UserWarning: X does not have valid feature names, but KNeighborsClassifier was fitted with feature names\n",
            "  warnings.warn(\n"
          ]
        }
      ],
      "source": [
        "survie(model)"
      ]
    },
    {
      "cell_type": "markdown",
      "metadata": {
        "colab_type": "text",
        "id": "1Bv5FnyTfmZi"
      },
      "source": [
        "## 4. Exercice et Solution\n",
        "Écrire un code qui permet de trouver la meilleure valeur de voisin n_neighbors pour le modele de KNeighborsClassifier.\n",
        "\n",
        "Dans sklearn, il est possible de faire cela avec la classe GridSearchCV. Mais il peut également etre utile de savoir écrire soi-meme ce genre de code de recherche."
      ]
    },
    {
      "cell_type": "code",
      "execution_count": 44,
      "metadata": {
        "colab": {
          "base_uri": "https://localhost:8080/",
          "height": 299
        },
        "colab_type": "code",
        "id": "jJ0iAJt9f8f2",
        "outputId": "d1ff75d1-4176-4723-d14c-8ff887efe610"
      },
      "outputs": [
        {
          "name": "stdout",
          "output_type": "stream",
          "text": [
            "4\n"
          ]
        },
        {
          "data": {
            "text/plain": [
              "[<matplotlib.lines.Line2D at 0x7f3cbcf43d00>]"
            ]
          },
          "execution_count": 44,
          "metadata": {},
          "output_type": "execute_result"
        },
        {
          "data": {
            "image/png": "[encoded data removed]",
            "text/plain": [
              "<Figure size 432x288 with 1 Axes>"
            ]
          },
          "metadata": {
            "needs_background": "light"
          },
          "output_type": "display_data"
        }
      ],
      "source": [
        "# SOLUTION\n",
        "score = []\n",
        "best_k = 1\n",
        "best_score = 0\n",
        "\n",
        "for k in range(best_k, 30):\n",
        "    model = KNeighborsClassifier(n_neighbors=k)\n",
        "    model.fit(X, y)\n",
        "    score.append(model.score(X, y))\n",
        "    \n",
        "    if best_score < model.score(X, y):\n",
        "        best_k = k\n",
        "        best_score = model.score(X, y)\n",
        "\n",
        "print(best_k)\n",
        "plt.plot(score)"
      ]
    },
    {
      "cell_type": "code",
      "execution_count": null,
      "metadata": {
        "colab": {},
        "colab_type": "code",
        "id": "mrbIE8rLgWOC"
      },
      "outputs": [],
      "source": []
    }
  ],
  "metadata": {
    "colab": {
      "authorship_tag": "ABX9TyPrsB1/Z8APdONadrKuKH9L",
      "include_colab_link": true,
      "name": "Untitled16.ipynb",
      "provenance": []
    },
    "kernelspec": {
      "display_name": "Python 3",
      "name": "python3"
    },
    "language_info": {
      "codemirror_mode": {
        "name": "ipython",
        "version": 3
      },
      "file_extension": ".py",
      "mimetype": "text/x-python",
      "name": "python",
      "nbconvert_exporter": "python",
      "pygments_lexer": "ipython3",
      "version": "3.8.10"
    }
  },
  "nbformat": 4,
  "nbformat_minor": 0
}
